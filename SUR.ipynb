{
 "cells": [
  {
   "cell_type": "code",
   "execution_count": 1,
   "metadata": {},
   "outputs": [],
   "source": [
    "import numpy as np\n",
    "import pandas as pd\n",
    "from statsmodels.sandbox.regression.gmm import IV2SLS\n",
    "from statsmodels.regression.linear_model import OLS\n",
    "from statsmodels.sandbox.sysreg import SUR\n",
    "from linearmodels.system import SUR\n",
    "\n",
    "import statsmodels.api as sm\n",
    "import matplotlib.pyplot as plt\n",
    "import seaborn as sns\n",
    "from sklearn import metrics\n",
    "from statsmodels.stats.outliers_influence import variance_inflation_factor\n",
    "from statsmodels.compat import lzip\n",
    "import statsmodels.stats.api as sms\n",
    "from sklearn.decomposition import PCA\n",
    "from sklearn.preprocessing import scale\n",
    "from sklearn.linear_model import Ridge, RidgeCV, Lasso, LassoCV\n",
    "from sklearn.metrics import mean_squared_error\n",
    "from statsmodels.stats.diagnostic import het_breuschpagan"
   ]
  },
  {
   "cell_type": "code",
   "execution_count": 2,
   "metadata": {},
   "outputs": [
    {
     "data": {
      "text/html": [
       "<div>\n",
       "<style scoped>\n",
       "    .dataframe tbody tr th:only-of-type {\n",
       "        vertical-align: middle;\n",
       "    }\n",
       "\n",
       "    .dataframe tbody tr th {\n",
       "        vertical-align: top;\n",
       "    }\n",
       "\n",
       "    .dataframe thead th {\n",
       "        text-align: right;\n",
       "    }\n",
       "</style>\n",
       "<table border=\"1\" class=\"dataframe\">\n",
       "  <thead>\n",
       "    <tr style=\"text-align: right;\">\n",
       "      <th></th>\n",
       "      <th>Provinsi</th>\n",
       "      <th>Tahun</th>\n",
       "      <th>IPM</th>\n",
       "      <th>PDRB_PerKapita</th>\n",
       "      <th>JPM</th>\n",
       "      <th>Avr_LamaSekolah</th>\n",
       "      <th>Avr_AHH</th>\n",
       "      <th>TPT</th>\n",
       "      <th>UMR</th>\n",
       "    </tr>\n",
       "  </thead>\n",
       "  <tbody>\n",
       "    <tr>\n",
       "      <th>0</th>\n",
       "      <td>ACEH</td>\n",
       "      <td>2020</td>\n",
       "      <td>73.29</td>\n",
       "      <td>31633</td>\n",
       "      <td>1648.82</td>\n",
       "      <td>9.33</td>\n",
       "      <td>69.975</td>\n",
       "      <td>5.995</td>\n",
       "      <td>3165031</td>\n",
       "    </tr>\n",
       "    <tr>\n",
       "      <th>1</th>\n",
       "      <td>SUMATERA UTARA</td>\n",
       "      <td>2020</td>\n",
       "      <td>73.62</td>\n",
       "      <td>54979</td>\n",
       "      <td>2640.01</td>\n",
       "      <td>9.54</td>\n",
       "      <td>69.150</td>\n",
       "      <td>5.810</td>\n",
       "      <td>2499423</td>\n",
       "    </tr>\n",
       "    <tr>\n",
       "      <th>2</th>\n",
       "      <td>SUMATERA BARAT</td>\n",
       "      <td>2020</td>\n",
       "      <td>74.29</td>\n",
       "      <td>43826</td>\n",
       "      <td>709.02</td>\n",
       "      <td>8.99</td>\n",
       "      <td>69.520</td>\n",
       "      <td>6.065</td>\n",
       "      <td>2484041</td>\n",
       "    </tr>\n",
       "    <tr>\n",
       "      <th>3</th>\n",
       "      <td>RIAU</td>\n",
       "      <td>2020</td>\n",
       "      <td>73.67</td>\n",
       "      <td>114167</td>\n",
       "      <td>974.61</td>\n",
       "      <td>9.14</td>\n",
       "      <td>71.650</td>\n",
       "      <td>5.620</td>\n",
       "      <td>2888564</td>\n",
       "    </tr>\n",
       "    <tr>\n",
       "      <th>4</th>\n",
       "      <td>JAMBI</td>\n",
       "      <td>2020</td>\n",
       "      <td>72.29</td>\n",
       "      <td>57958</td>\n",
       "      <td>565.90</td>\n",
       "      <td>8.55</td>\n",
       "      <td>71.170</td>\n",
       "      <td>4.695</td>\n",
       "      <td>2630162</td>\n",
       "    </tr>\n",
       "    <tr>\n",
       "      <th>5</th>\n",
       "      <td>SUMATERA SELATAN</td>\n",
       "      <td>2020</td>\n",
       "      <td>71.62</td>\n",
       "      <td>53843</td>\n",
       "      <td>2201.23</td>\n",
       "      <td>8.24</td>\n",
       "      <td>69.930</td>\n",
       "      <td>4.705</td>\n",
       "      <td>3043111</td>\n",
       "    </tr>\n",
       "    <tr>\n",
       "      <th>6</th>\n",
       "      <td>BENGKULU</td>\n",
       "      <td>2020</td>\n",
       "      <td>72.93</td>\n",
       "      <td>36552</td>\n",
       "      <td>608.58</td>\n",
       "      <td>8.84</td>\n",
       "      <td>69.370</td>\n",
       "      <td>3.575</td>\n",
       "      <td>2213604</td>\n",
       "    </tr>\n",
       "    <tr>\n",
       "      <th>7</th>\n",
       "      <td>LAMPUNG</td>\n",
       "      <td>2020</td>\n",
       "      <td>71.04</td>\n",
       "      <td>39290</td>\n",
       "      <td>2140.46</td>\n",
       "      <td>8.05</td>\n",
       "      <td>70.695</td>\n",
       "      <td>4.465</td>\n",
       "      <td>2432002</td>\n",
       "    </tr>\n",
       "    <tr>\n",
       "      <th>8</th>\n",
       "      <td>KEP. BANGKA BELITUNG</td>\n",
       "      <td>2020</td>\n",
       "      <td>72.74</td>\n",
       "      <td>52023</td>\n",
       "      <td>140.44</td>\n",
       "      <td>8.06</td>\n",
       "      <td>70.680</td>\n",
       "      <td>4.300</td>\n",
       "      <td>3230024</td>\n",
       "    </tr>\n",
       "    <tr>\n",
       "      <th>9</th>\n",
       "      <td>KEP. RIAU</td>\n",
       "      <td>2020</td>\n",
       "      <td>77.69</td>\n",
       "      <td>123465</td>\n",
       "      <td>274.58</td>\n",
       "      <td>10.12</td>\n",
       "      <td>69.990</td>\n",
       "      <td>8.160</td>\n",
       "      <td>3005460</td>\n",
       "    </tr>\n",
       "  </tbody>\n",
       "</table>\n",
       "</div>"
      ],
      "text/plain": [
       "               Provinsi  Tahun    IPM  PDRB_PerKapita      JPM  \\\n",
       "0                  ACEH   2020  73.29           31633  1648.82   \n",
       "1        SUMATERA UTARA   2020  73.62           54979  2640.01   \n",
       "2        SUMATERA BARAT   2020  74.29           43826   709.02   \n",
       "3                  RIAU   2020  73.67          114167   974.61   \n",
       "4                 JAMBI   2020  72.29           57958   565.90   \n",
       "5      SUMATERA SELATAN   2020  71.62           53843  2201.23   \n",
       "6              BENGKULU   2020  72.93           36552   608.58   \n",
       "7               LAMPUNG   2020  71.04           39290  2140.46   \n",
       "8  KEP. BANGKA BELITUNG   2020  72.74           52023   140.44   \n",
       "9             KEP. RIAU   2020  77.69          123465   274.58   \n",
       "\n",
       "   Avr_LamaSekolah  Avr_AHH    TPT      UMR  \n",
       "0             9.33   69.975  5.995  3165031  \n",
       "1             9.54   69.150  5.810  2499423  \n",
       "2             8.99   69.520  6.065  2484041  \n",
       "3             9.14   71.650  5.620  2888564  \n",
       "4             8.55   71.170  4.695  2630162  \n",
       "5             8.24   69.930  4.705  3043111  \n",
       "6             8.84   69.370  3.575  2213604  \n",
       "7             8.05   70.695  4.465  2432002  \n",
       "8             8.06   70.680  4.300  3230024  \n",
       "9            10.12   69.990  8.160  3005460  "
      ]
     },
     "execution_count": 2,
     "metadata": {},
     "output_type": "execute_result"
    }
   ],
   "source": [
    "dataset = pd.read_excel(\"data/Dataset_SUR.xlsx\")\n",
    "dataset.head(10)"
   ]
  },
  {
   "cell_type": "code",
   "execution_count": 3,
   "metadata": {},
   "outputs": [
    {
     "data": {
      "text/html": [
       "<div>\n",
       "<style scoped>\n",
       "    .dataframe tbody tr th:only-of-type {\n",
       "        vertical-align: middle;\n",
       "    }\n",
       "\n",
       "    .dataframe tbody tr th {\n",
       "        vertical-align: top;\n",
       "    }\n",
       "\n",
       "    .dataframe thead th {\n",
       "        text-align: right;\n",
       "    }\n",
       "</style>\n",
       "<table border=\"1\" class=\"dataframe\">\n",
       "  <thead>\n",
       "    <tr style=\"text-align: right;\">\n",
       "      <th></th>\n",
       "      <th>IPM</th>\n",
       "      <th>PDRB_PerKapita</th>\n",
       "      <th>JPM</th>\n",
       "      <th>Avr_LamaSekolah</th>\n",
       "      <th>Avr_AHH</th>\n",
       "      <th>TPT</th>\n",
       "      <th>UMR</th>\n",
       "    </tr>\n",
       "  </thead>\n",
       "  <tbody>\n",
       "    <tr>\n",
       "      <th>0</th>\n",
       "      <td>73.29</td>\n",
       "      <td>31633</td>\n",
       "      <td>1648.82</td>\n",
       "      <td>9.33</td>\n",
       "      <td>69.975</td>\n",
       "      <td>5.995</td>\n",
       "      <td>3165031</td>\n",
       "    </tr>\n",
       "    <tr>\n",
       "      <th>1</th>\n",
       "      <td>73.62</td>\n",
       "      <td>54979</td>\n",
       "      <td>2640.01</td>\n",
       "      <td>9.54</td>\n",
       "      <td>69.150</td>\n",
       "      <td>5.810</td>\n",
       "      <td>2499423</td>\n",
       "    </tr>\n",
       "    <tr>\n",
       "      <th>2</th>\n",
       "      <td>74.29</td>\n",
       "      <td>43826</td>\n",
       "      <td>709.02</td>\n",
       "      <td>8.99</td>\n",
       "      <td>69.520</td>\n",
       "      <td>6.065</td>\n",
       "      <td>2484041</td>\n",
       "    </tr>\n",
       "    <tr>\n",
       "      <th>3</th>\n",
       "      <td>73.67</td>\n",
       "      <td>114167</td>\n",
       "      <td>974.61</td>\n",
       "      <td>9.14</td>\n",
       "      <td>71.650</td>\n",
       "      <td>5.620</td>\n",
       "      <td>2888564</td>\n",
       "    </tr>\n",
       "    <tr>\n",
       "      <th>4</th>\n",
       "      <td>72.29</td>\n",
       "      <td>57958</td>\n",
       "      <td>565.90</td>\n",
       "      <td>8.55</td>\n",
       "      <td>71.170</td>\n",
       "      <td>4.695</td>\n",
       "      <td>2630162</td>\n",
       "    </tr>\n",
       "  </tbody>\n",
       "</table>\n",
       "</div>"
      ],
      "text/plain": [
       "     IPM  PDRB_PerKapita      JPM  Avr_LamaSekolah  Avr_AHH    TPT      UMR\n",
       "0  73.29           31633  1648.82             9.33   69.975  5.995  3165031\n",
       "1  73.62           54979  2640.01             9.54   69.150  5.810  2499423\n",
       "2  74.29           43826   709.02             8.99   69.520  6.065  2484041\n",
       "3  73.67          114167   974.61             9.14   71.650  5.620  2888564\n",
       "4  72.29           57958   565.90             8.55   71.170  4.695  2630162"
      ]
     },
     "execution_count": 3,
     "metadata": {},
     "output_type": "execute_result"
    }
   ],
   "source": [
    "data = dataset.drop(columns=[\"Provinsi\", \"Tahun\"])\n",
    "data.head()"
   ]
  },
  {
   "cell_type": "code",
   "execution_count": 4,
   "metadata": {},
   "outputs": [
    {
     "data": {
      "text/plain": [
       "Text(0.5, 1.0, 'Correlation Plot')"
      ]
     },
     "execution_count": 4,
     "metadata": {},
     "output_type": "execute_result"
    },
    {
     "data": {
      "image/png": "[encoded data removed]",
      "text/plain": [
       "<Figure size 700x600 with 2 Axes>"
      ]
     },
     "metadata": {},
     "output_type": "display_data"
    }
   ],
   "source": [
    "corr_matrix = data[[\"IPM\",\"PDRB_PerKapita\",\"JPM\",\"Avr_LamaSekolah\",\"Avr_AHH\", \"TPT\", \"UMR\"]].corr()\n",
    "corr_matrix\n",
    "fig = plt.figure(figsize=(7,6))\n",
    "sns.heatmap(corr_matrix,\n",
    "            linewidths=0.75,\n",
    "            linecolor='green',\n",
    "            cbar=True,\n",
    "            vmin=-1,\n",
    "            vmax=1,\n",
    "            annot=True,\n",
    "            annot_kws={'size':8,'color':'black'})\n",
    "plt.tick_params(labelsize=10,rotation=45)\n",
    "plt.title(\"Correlation Plot\",size=14)"
   ]
  },
  {
   "cell_type": "code",
   "execution_count": 5,
   "metadata": {},
   "outputs": [
    {
     "name": "stdout",
     "output_type": "stream",
     "text": [
      "          Variable          VIF\n",
      "0            const  1487.930326\n",
      "1   PDRB_PerKapita     2.613042\n",
      "2              JPM     2.129188\n",
      "3  Avr_LamaSekolah     2.537715\n",
      "4          Avr_AHH     1.872883\n",
      "5              TPT     1.826546\n",
      "6              UMR     2.393552\n"
     ]
    }
   ],
   "source": [
    "import pandas as pd\n",
    "import statsmodels.api as sm\n",
    "from statsmodels.stats.outliers_influence import variance_inflation_factor\n",
    "\n",
    "x = data[[\"PDRB_PerKapita\",\"JPM\",\"Avr_LamaSekolah\",\"Avr_AHH\", \"TPT\", \"UMR\"]]\n",
    "y = data[\"IPM\"]\n",
    "\n",
    "\n",
    "x = sm.add_constant(x)\n",
    "\n",
    "# Fit model OLS\n",
    "model = sm.OLS(y, x).fit()\n",
    "\n",
    "# Hitung Variance Inflation Factor (VIF)\n",
    "vif_data = pd.DataFrame()\n",
    "vif_data[\"Variable\"] = x.columns\n",
    "vif_data[\"VIF\"] = [variance_inflation_factor(x.values, i) for i in range(x.shape[1])]\n",
    "\n",
    "# Cetak hasil VIF\n",
    "print(vif_data)\n"
   ]
  },
  {
   "cell_type": "code",
   "execution_count": 6,
   "metadata": {},
   "outputs": [
    {
     "name": "stdout",
     "output_type": "stream",
     "text": [
      "Uji Breusch-Pagan : p-value = 0.015609240425580526\n",
      "Terdapat heteroskedastisitas Pada Data\n"
     ]
    }
   ],
   "source": [
    "y_log = np.log(y)\n",
    "model_log = sm.OLS(y_log, x).fit()\n",
    "\n",
    "_, p_value_bp_log, _, _ = het_breuschpagan(model_log.resid, model_log.model.exog)\n",
    "print(f'Uji Breusch-Pagan : p-value = {p_value_bp_log}')\n",
    "if p_value_bp_log > 0.05:\n",
    "    print(\"Tidak terdapat heteroskedastisitas Pada Data\")\n",
    "else:\n",
    "    print(\"Terdapat heteroskedastisitas Pada Data\")"
   ]
  },
  {
   "cell_type": "code",
   "execution_count": 7,
   "metadata": {},
   "outputs": [
    {
     "name": "stdout",
     "output_type": "stream",
     "text": [
      "                            OLS Regression Results                            \n",
      "==============================================================================\n",
      "Dep. Variable:                    IPM   R-squared:                       0.784\n",
      "Model:                            OLS   Adj. R-squared:                  0.770\n",
      "Method:                 Least Squares   F-statistic:                     34.80\n",
      "Date:                Fri, 29 Nov 2024   Prob (F-statistic):           6.06e-22\n",
      "Time:                        18:54:26   Log-Likelihood:                -202.09\n",
      "No. Observations:                 102   AIC:                             418.2\n",
      "Df Residuals:                      95   BIC:                             436.6\n",
      "Df Model:                           6                                         \n",
      "Covariance Type:                  HC3                                         \n",
      "===================================================================================\n",
      "                      coef    std err          z      P>|z|      [0.025      0.975]\n",
      "-----------------------------------------------------------------------------------\n",
      "const               7.2452      7.246      1.000      0.317      -6.956      21.447\n",
      "PDRB_PerKapita   5.366e-07   6.21e-06      0.086      0.931   -1.16e-05    1.27e-05\n",
      "JPM              -7.11e-05      0.000     -0.550      0.582      -0.000       0.000\n",
      "Avr_LamaSekolah     2.5729      0.319      8.074      0.000       1.948       3.197\n",
      "Avr_AHH             0.6377      0.101      6.313      0.000       0.440       0.836\n",
      "TPT                 0.0429      0.132      0.325      0.745      -0.216       0.301\n",
      "UMR             -7.505e-07   5.59e-07     -1.343      0.179   -1.85e-06    3.45e-07\n",
      "==============================================================================\n",
      "Omnibus:                        6.814   Durbin-Watson:                   1.521\n",
      "Prob(Omnibus):                  0.033   Jarque-Bera (JB):                2.955\n",
      "Skew:                          -0.053   Prob(JB):                        0.228\n",
      "Kurtosis:                       2.173   Cond. No.                     1.06e+08\n",
      "==============================================================================\n",
      "\n",
      "Notes:\n",
      "[1] Standard Errors are heteroscedasticity robust (HC3)\n",
      "[2] The condition number is large, 1.06e+08. This might indicate that there are\n",
      "strong multicollinearity or other numerical problems.\n"
     ]
    }
   ],
   "source": [
    "# Menggunakan heteroskedasticity-robust standard errors\n",
    "robust_model = sm.OLS(y, x).fit(cov_type='HC3')  # HC3 adalah salah satu opsi robust covariance\n",
    "print(robust_model.summary())"
   ]
  },
  {
   "cell_type": "code",
   "execution_count": 8,
   "metadata": {},
   "outputs": [
    {
     "name": "stdout",
     "output_type": "stream",
     "text": [
      "                            OLS Regression Results                            \n",
      "==============================================================================\n",
      "Dep. Variable:                    IPM   R-squared:                       0.787\n",
      "Model:                            OLS   Adj. R-squared:                  0.773\n",
      "Method:                 Least Squares   F-statistic:                     58.46\n",
      "Date:                Fri, 29 Nov 2024   Prob (F-statistic):           9.67e-30\n",
      "Time:                        18:54:26   Log-Likelihood:                -201.41\n",
      "No. Observations:                 102   AIC:                             416.8\n",
      "Df Residuals:                      95   BIC:                             435.2\n",
      "Df Model:                           6                                         \n",
      "Covariance Type:            nonrobust                                         \n",
      "===================================================================================\n",
      "                      coef    std err          t      P>|t|      [0.025      0.975]\n",
      "-----------------------------------------------------------------------------------\n",
      "const              37.4198     21.228      1.763      0.081      -4.723      79.563\n",
      "PDRB_Log           -0.1541      0.507     -0.304      0.762      -1.161       0.852\n",
      "JPM                -0.0001      0.000     -0.860      0.392      -0.000       0.000\n",
      "Avr_LamaSekolah     2.5826      0.301      8.576      0.000       1.985       3.180\n",
      "Avr_AHH             0.6502      0.106      6.144      0.000       0.440       0.860\n",
      "TPT                 0.0626      0.147      0.425      0.672      -0.230       0.355\n",
      "UMR_Log            -2.1290      1.412     -1.508      0.135      -4.931       0.673\n",
      "==============================================================================\n",
      "Omnibus:                        8.181   Durbin-Watson:                   1.529\n",
      "Prob(Omnibus):                  0.017   Jarque-Bera (JB):                3.233\n",
      "Skew:                          -0.034   Prob(JB):                        0.199\n",
      "Kurtosis:                       2.131   Cond. No.                     3.21e+05\n",
      "==============================================================================\n",
      "\n",
      "Notes:\n",
      "[1] Standard Errors assume that the covariance matrix of the errors is correctly specified.\n",
      "[2] The condition number is large, 3.21e+05. This might indicate that there are\n",
      "strong multicollinearity or other numerical problems.\n"
     ]
    }
   ],
   "source": [
    "# Transformasi logaritma\n",
    "data[\"PDRB_Log\"] = np.log(data[\"PDRB_PerKapita\"])\n",
    "data[\"UMR_Log\"] = np.log(data[\"UMR\"])\n",
    "\n",
    "# Gunakan variabel baru dalam model\n",
    "x = data[[\"PDRB_Log\", \"JPM\", \"Avr_LamaSekolah\", \"Avr_AHH\", \"TPT\", \"UMR_Log\"]]\n",
    "x = sm.add_constant(x)\n",
    "model = sm.OLS(y, x).fit()\n",
    "\n",
    "print(model.summary())"
   ]
  },
  {
   "cell_type": "code",
   "execution_count": 9,
   "metadata": {},
   "outputs": [
    {
     "name": "stdout",
     "output_type": "stream",
     "text": [
      "                            WLS Regression Results                            \n",
      "==============================================================================\n",
      "Dep. Variable:                    IPM   R-squared:                       0.964\n",
      "Model:                            WLS   Adj. R-squared:                  0.962\n",
      "Method:                 Least Squares   F-statistic:                     428.5\n",
      "Date:                Fri, 29 Nov 2024   Prob (F-statistic):           1.82e-66\n",
      "Time:                        18:54:26   Log-Likelihood:                -151.33\n",
      "No. Observations:                 102   AIC:                             316.7\n",
      "Df Residuals:                      95   BIC:                             335.0\n",
      "Df Model:                           6                                         \n",
      "Covariance Type:            nonrobust                                         \n",
      "===================================================================================\n",
      "                      coef    std err          t      P>|t|      [0.025      0.975]\n",
      "-----------------------------------------------------------------------------------\n",
      "const              37.9742      5.741      6.614      0.000      26.576      49.372\n",
      "PDRB_Log           -0.3862      0.135     -2.861      0.005      -0.654      -0.118\n",
      "JPM                -0.0002   6.32e-05     -3.471      0.001      -0.000    -9.4e-05\n",
      "Avr_LamaSekolah     2.6028      0.084     30.874      0.000       2.435       2.770\n",
      "Avr_AHH             0.6791      0.047     14.503      0.000       0.586       0.772\n",
      "TPT                 0.0080      0.080      0.100      0.921      -0.152       0.168\n",
      "UMR_Log            -2.1197      0.401     -5.284      0.000      -2.916      -1.323\n",
      "==============================================================================\n",
      "Omnibus:                     1153.334   Durbin-Watson:                   1.488\n",
      "Prob(Omnibus):                  0.000   Jarque-Bera (JB):               13.471\n",
      "Skew:                           0.028   Prob(JB):                      0.00119\n",
      "Kurtosis:                       1.221   Cond. No.                     4.74e+05\n",
      "==============================================================================\n",
      "\n",
      "Notes:\n",
      "[1] Standard Errors assume that the covariance matrix of the errors is correctly specified.\n",
      "[2] The condition number is large, 4.74e+05. This might indicate that there are\n",
      "strong multicollinearity or other numerical problems.\n"
     ]
    }
   ],
   "source": [
    "# Estimasi model WLS dengan bobot\n",
    "weights = 1 / model.resid**2  # Menggunakan residual kuadrat sebagai bobot\n",
    "wls_model = sm.WLS(y, x, weights=weights).fit()\n",
    "\n",
    "print(wls_model.summary())"
   ]
  },
  {
   "cell_type": "code",
   "execution_count": 10,
   "metadata": {},
   "outputs": [
    {
     "data": {
      "image/png": "[encoded data removed]",
      "text/plain": [
       "<Figure size 640x480 with 1 Axes>"
      ]
     },
     "metadata": {},
     "output_type": "display_data"
    }
   ],
   "source": [
    "import matplotlib.pyplot as plt\n",
    "\n",
    "# Scatter plot residual vs prediksi\n",
    "plt.scatter(model.fittedvalues, model.resid)\n",
    "plt.axhline(y=0, color='r', linestyle='--')\n",
    "plt.xlabel('Predicted Values')\n",
    "plt.ylabel('Residuals')\n",
    "plt.title('Residuals vs Predicted')\n",
    "plt.show()\n"
   ]
  },
  {
   "cell_type": "code",
   "execution_count": 11,
   "metadata": {},
   "outputs": [
    {
     "data": {
      "image/png": "[encoded data removed]",
      "text/plain": [
       "<Figure size 800x600 with 1 Axes>"
      ]
     },
     "metadata": {},
     "output_type": "display_data"
    }
   ],
   "source": [
    "residuals = wls_model.resid\n",
    "fitted_values = wls_model.fittedvalues\n",
    "\n",
    "plt.figure(figsize=(8, 6))\n",
    "plt.hist(residuals, bins=30, edgecolor='k')\n",
    "plt.xlabel('Residuals')\n",
    "plt.ylabel('Frequency')\n",
    "plt.title('Histogram of Residuals')\n",
    "plt.show()"
   ]
  },
  {
   "cell_type": "code",
   "execution_count": null,
   "metadata": {},
   "outputs": [],
   "source": [
    "formula_eq1 = \"IPM ~ PDRB_PerKapita + JPM + Avr_LamaSekolah + Avr_AHH + TPT + UMR\"\n",
    "formula_eq2 = \"IPM ~ PDRB_PerKapita + JPM + Avr_LamaSekolah + Avr_AHH + TPT + UMR\""
   ]
  },
  {
   "cell_type": "code",
   "execution_count": 19,
   "metadata": {},
   "outputs": [],
   "source": [
    "equations = {\n",
    "    'Eq1': formula_eq1,\n",
    "    'Eq2': formula_eq2\n",
    "}"
   ]
  },
  {
   "cell_type": "code",
   "execution_count": 20,
   "metadata": {},
   "outputs": [
    {
     "name": "stdout",
     "output_type": "stream",
     "text": [
      "<class 'dict'>\n"
     ]
    }
   ],
   "source": [
    "print(type(equations))"
   ]
  },
  {
   "cell_type": "code",
   "execution_count": 21,
   "metadata": {},
   "outputs": [
    {
     "name": "stdout",
     "output_type": "stream",
     "text": [
      "Index(['IPM', 'PDRB_PerKapita', 'JPM', 'Avr_LamaSekolah', 'Avr_AHH', 'TPT',\n",
      "       'UMR', 'PDRB_Log', 'UMR_Log'],\n",
      "      dtype='object')\n"
     ]
    }
   ],
   "source": [
    "print(data.columns)\n"
   ]
  },
  {
   "cell_type": "code",
   "execution_count": 22,
   "metadata": {},
   "outputs": [
    {
     "name": "stdout",
     "output_type": "stream",
     "text": [
      "                           System GLS Estimation Summary                           \n",
      "===================================================================================\n",
      "Estimator:                        GLS   Overall R-squared:                   0.7831\n",
      "No. Equations.:                     2   McElroy's R-squared:                 0.6772\n",
      "No. Observations:                 102   Judge's (OLS) R-squared:             0.4248\n",
      "Date:                Fri, Nov 29 2024   Berndt's R-squared:                  0.8352\n",
      "Time:                        18:59:47   Dhrymes's R-squared:                 0.7831\n",
      "                                        Cov. Estimator:                      robust\n",
      "                                        Num. Constraints:                      None\n",
      "                       Equation: Eq1, Dependent Variable: IPM                      \n",
      "===================================================================================\n",
      "                 Parameter  Std. Err.     T-stat    P-value    Lower CI    Upper CI\n",
      "-----------------------------------------------------------------------------------\n",
      "PDRB_PerKapita  -5.483e-06  4.832e-06    -1.1347     0.2565  -1.495e-05   3.987e-06\n",
      "JPM             -6.424e-05     0.0001    -0.5415     0.5881     -0.0003      0.0002\n",
      "Avr_LamaSekolah     2.6494     0.2862     9.2557     0.0000      2.0884      3.2104\n",
      "Avr_AHH             0.7230     0.0382     18.926     0.0000      0.6481      0.7979\n",
      "TPT                 0.0321     0.1229     0.2611     0.7940     -0.2089      0.2731\n",
      "UMR             -3.621e-07  4.512e-07    -0.8026     0.4222  -1.246e-06   5.222e-07\n",
      "                 Equation: Eq2, Dependent Variable: PDRB_PerKapita                 \n",
      "===================================================================================\n",
      "                 Parameter  Std. Err.     T-stat    P-value    Lower CI    Upper CI\n",
      "-----------------------------------------------------------------------------------\n",
      "IPM                -2878.1     2564.4    -1.1223     0.2617     -7904.2      2148.0\n",
      "JPM                 4.6601     2.7264     1.7093     0.0874     -0.6835      10.004\n",
      "Avr_LamaSekolah  3.125e+04     9593.4     3.2569     0.0011   1.244e+04   5.005e+04\n",
      "Avr_AHH            -1761.5     2454.4    -0.7177     0.4729     -6572.0      3049.0\n",
      "TPT                 1448.2     2237.3     0.6473     0.5174     -2936.8      5833.3\n",
      "UMR                 0.0425     0.0116     3.6712     0.0002      0.0198      0.0651\n",
      "===================================================================================\n",
      "\n",
      "Covariance Estimator:\n",
      "Heteroskedastic (Robust) Covariance (Debiased: False, GLS: True)\n"
     ]
    }
   ],
   "source": [
    "sur_model = SUR.from_formula(equations, data)\n",
    "sur_results = sur_model.fit()\n",
    "print(sur_results)"
   ]
  }
 ],
 "metadata": {
  "kernelspec": {
   "display_name": "base",
   "language": "python",
   "name": "python3"
  },
  "language_info": {
   "codemirror_mode": {
    "name": "ipython",
    "version": 3
   },
   "file_extension": ".py",
   "mimetype": "text/x-python",
   "name": "python",
   "nbconvert_exporter": "python",
   "pygments_lexer": "ipython3",
   "version": "3.9.19"
  }
 },
 "nbformat": 4,
 "nbformat_minor": 2
}
